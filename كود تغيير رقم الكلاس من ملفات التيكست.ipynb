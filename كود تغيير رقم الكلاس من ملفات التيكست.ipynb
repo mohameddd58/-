{
 "cells": [
  {
   "cell_type": "code",
   "execution_count": 3,
   "id": "eb4e120f",
   "metadata": {},
   "outputs": [],
   "source": [
    "import os \n",
    "os.chdir(r\"D:\\ccc.v1i.yolov5pytorch\\train\\labels\")"
   ]
  },
  {
   "cell_type": "code",
   "execution_count": 4,
   "id": "5d160e52",
   "metadata": {},
   "outputs": [],
   "source": [
    "\n",
    "# Path to the directory containing the text files \n",
    "path = 'D:/ccc.v1i.yolov5pytorch/train/labels/' \n",
    "  \n",
    "# List all files in the directory \n",
    "files = os.listdir(path) \n",
    "  \n",
    "# Iterate over each file in the directory \n",
    "for file in files: \n",
    "\n",
    "    # Open each file and read its contents into a list of lines \n",
    "    with open(os.path.join(path, file), 'r') as f: \n",
    "        lines = f.readlines() \n",
    "\n",
    "    # Iterate over each line in the list of lines and replace first number with 1  \n",
    "    for i, line in enumerate(lines):  \n",
    "\n",
    "        # Split line into words using space as delimiter  \n",
    "        words = line.split(' ')  \n",
    "\n",
    "        # Replace first word with 1 if it is a number  \n",
    "        if words[0].isdigit():  \n",
    "            words[0] = \"7\" \n",
    "\n",
    "        # Join words back together to form new line and update list of lines  \n",
    "        lines[i] = \" \".join(words)  \n",
    "\n",
    "    # Open same file again for writing and write updated list of lines to it    \n",
    "    with open(os.path.join(path, file), 'w') as f:    \n",
    "        f.writelines(lines)"
   ]
  },
  {
   "cell_type": "code",
   "execution_count": null,
   "id": "c0c865de",
   "metadata": {},
   "outputs": [],
   "source": []
  }
 ],
 "metadata": {
  "kernelspec": {
   "display_name": "Python 3 (ipykernel)",
   "language": "python",
   "name": "python3"
  },
  "language_info": {
   "codemirror_mode": {
    "name": "ipython",
    "version": 3
   },
   "file_extension": ".py",
   "mimetype": "text/x-python",
   "name": "python",
   "nbconvert_exporter": "python",
   "pygments_lexer": "ipython3",
   "version": "3.9.13"
  }
 },
 "nbformat": 4,
 "nbformat_minor": 5
}
